{
 "cells": [
  {
   "cell_type": "markdown",
   "metadata": {},
   "source": [
    "# Collaboration and Competition\n",
    "\n",
    "---\n",
    "\n",
    "You are welcome to use this coding environment to train your agent for the project.  Follow the instructions below to get started!\n",
    "\n",
    "### 1. Start the Environment\n",
    "\n",
    "Run the next code cell to install a few packages.  This line will take a few minutes to run!"
   ]
  },
  {
   "cell_type": "code",
   "execution_count": 1,
   "metadata": {},
   "outputs": [
    {
     "name": "stdout",
     "output_type": "stream",
     "text": [
      "\u001b[31mtensorflow 1.7.1 has requirement numpy>=1.13.3, but you'll have numpy 1.12.1 which is incompatible.\u001b[0m\r\n",
      "\u001b[31mipython 6.5.0 has requirement prompt-toolkit<2.0.0,>=1.0.15, but you'll have prompt-toolkit 3.0.22 which is incompatible.\u001b[0m\r\n"
     ]
    }
   ],
   "source": [
    "!pip -q install ./python"
   ]
  },
  {
   "cell_type": "markdown",
   "metadata": {},
   "source": [
    "The environment is already saved in the Workspace and can be accessed at the file path provided below. "
   ]
  },
  {
   "cell_type": "code",
   "execution_count": 2,
   "metadata": {},
   "outputs": [
    {
     "name": "stderr",
     "output_type": "stream",
     "text": [
      "INFO:unityagents:\n",
      "'Academy' started successfully!\n",
      "Unity Academy name: Academy\n",
      "        Number of Brains: 1\n",
      "        Number of External Brains : 1\n",
      "        Lesson number : 0\n",
      "        Reset Parameters :\n",
      "\t\t\n",
      "Unity brain name: TennisBrain\n",
      "        Number of Visual Observations (per agent): 0\n",
      "        Vector Observation space type: continuous\n",
      "        Vector Observation space size (per agent): 8\n",
      "        Number of stacked Vector Observation: 3\n",
      "        Vector Action space type: continuous\n",
      "        Vector Action space size (per agent): 2\n",
      "        Vector Action descriptions: , \n"
     ]
    }
   ],
   "source": [
    "from unityagents import UnityEnvironment\n",
    "import numpy as np\n",
    "\n",
    "env = UnityEnvironment(file_name=\"/data/Tennis_Linux_NoVis/Tennis\")"
   ]
  },
  {
   "cell_type": "markdown",
   "metadata": {},
   "source": [
    "Environments contain **_brains_** which are responsible for deciding the actions of their associated agents. Here we check for the first brain available, and set it as the default brain we will be controlling from Python."
   ]
  },
  {
   "cell_type": "code",
   "execution_count": 3,
   "metadata": {},
   "outputs": [],
   "source": [
    "# get the default brain\n",
    "brain_name = env.brain_names[0]\n",
    "brain = env.brains[brain_name]"
   ]
  },
  {
   "cell_type": "markdown",
   "metadata": {},
   "source": [
    "### 2. Examine the State and Action Spaces\n",
    "\n",
    "Run the code cell below to print some information about the environment."
   ]
  },
  {
   "cell_type": "code",
   "execution_count": 4,
   "metadata": {},
   "outputs": [
    {
     "name": "stdout",
     "output_type": "stream",
     "text": [
      "Number of agents: 2\n",
      "Size of each action: 2\n",
      "Dones: [False, False]\n",
      "Rewards: [False, False]\n",
      "Next States shape: (2, 24)\n",
      "There are 2 agents. Each observes a state with length: 24\n",
      "The state for the first agent looks like: [ 0.          0.          0.          0.          0.          0.          0.\n",
      "  0.          0.          0.          0.          0.          0.          0.\n",
      "  0.          0.         -6.65278625 -1.5        -0.          0.\n",
      "  6.83172083  6.         -0.          0.        ]\n"
     ]
    }
   ],
   "source": [
    "# reset the environment\n",
    "env_info = env.reset(train_mode=True)[brain_name]\n",
    "\n",
    "# number of agents \n",
    "num_agents = len(env_info.agents)\n",
    "print('Number of agents:', num_agents)\n",
    "\n",
    "# size of each action\n",
    "action_size = brain.vector_action_space_size\n",
    "print('Size of each action:', action_size)\n",
    "\n",
    "# examine the state space \n",
    "states = env_info.vector_observations\n",
    "dones = env_info.local_done\n",
    "rewards = env_info.rewards\n",
    "next_states = env_info.vector_observations\n",
    "# Flatten: Generates a pointer with adjusted stride to the data without making new copy\n",
    "next_states_flat = next_states.flatten()\n",
    "# Unflatten\n",
    "next_states_flat = next_states.reshape(num_agents,-1)\n",
    "print(\"Dones:\",dones)\n",
    "print(\"Rewards:\",dones)\n",
    "print(\"Next States shape:\",next_states.shape)\n",
    "state_size = states.shape[1]\n",
    "print('There are {} agents. Each observes a state with length: {}'.format(states.shape[0], state_size))\n",
    "print('The state for the first agent looks like:', states[0])"
   ]
  },
  {
   "cell_type": "markdown",
   "metadata": {},
   "source": [
    "### 3. Take Random Actions in the Environment\n",
    "\n",
    "In the next code cell, you will learn how to use the Python API to control the agent and receive feedback from the environment.\n",
    "\n",
    "Note that **in this coding environment, you will not be able to watch the agents while they are training**, and you should set `train_mode=True` to restart the environment."
   ]
  },
  {
   "cell_type": "code",
   "execution_count": 5,
   "metadata": {},
   "outputs": [
    {
     "name": "stdout",
     "output_type": "stream",
     "text": [
      "Total score (averaged over agents) this episode: -0.004999999888241291\n",
      "Total score (averaged over agents) this episode: -0.004999999888241291\n",
      "Total score (averaged over agents) this episode: -0.004999999888241291\n",
      "Total score (averaged over agents) this episode: -0.004999999888241291\n",
      "Total score (averaged over agents) this episode: -0.004999999888241291\n"
     ]
    }
   ],
   "source": [
    "for i in range(5):                                         # play game for 5 episodes\n",
    "    env_info = env.reset(train_mode=False)[brain_name]     # reset the environment    \n",
    "    states = env_info.vector_observations                  # get the current state (for each agent)\n",
    "    scores = np.zeros(num_agents)                          # initialize the score (for each agent)\n",
    "    while True:\n",
    "        actions = np.random.randn(num_agents, action_size) # select an action (for each agent)\n",
    "        actions = np.clip(actions, -1, 1)                  # all actions between -1 and 1\n",
    "        env_info = env.step(actions)[brain_name]           # send all actions to tne environment\n",
    "        next_states = env_info.vector_observations         # get next state (for each agent)\n",
    "        rewards = env_info.rewards                         # get reward (for each agent)\n",
    "        dones = env_info.local_done                        # see if episode finished\n",
    "        scores += env_info.rewards                         # update the score (for each agent)\n",
    "        states = next_states                               # roll over states to next time step\n",
    "        if np.any(dones):                                  # exit loop if episode finished\n",
    "            break\n",
    "    print('Total score (averaged over agents) this episode: {}'.format(np.mean(scores)))"
   ]
  },
  {
   "cell_type": "markdown",
   "metadata": {},
   "source": [
    "When finished, you can close the environment."
   ]
  },
  {
   "cell_type": "code",
   "execution_count": null,
   "metadata": {},
   "outputs": [],
   "source": [
    "env.close()"
   ]
  },
  {
   "cell_type": "markdown",
   "metadata": {},
   "source": [
    "### 4. It's Your Turn!\n",
    "\n",
    "Now it's your turn to train your own agent to solve the environment!  A few **important notes**:\n",
    "- When training the environment, set `train_mode=True`, so that the line for resetting the environment looks like the following:\n",
    "```python\n",
    "env_info = env.reset(train_mode=True)[brain_name]\n",
    "```\n",
    "- To structure your work, you're welcome to work directly in this Jupyter notebook, or you might like to start over with a new file!  You can see the list of files in the workspace by clicking on **_Jupyter_** in the top left corner of the notebook.\n",
    "- In this coding environment, you will not be able to watch the agents while they are training.  However, **_after training the agents_**, you can download the saved model weights to watch the agents on your own machine! "
   ]
  },
  {
   "cell_type": "markdown",
   "metadata": {},
   "source": [
    "## Libraries and General Initialization"
   ]
  },
  {
   "cell_type": "code",
   "execution_count": 5,
   "metadata": {},
   "outputs": [],
   "source": [
    "# NN Related Libraries\n",
    "import torch\n",
    "import torch.nn as nn\n",
    "import torch.nn.functional as F\n",
    "import torch.optim as optim\n",
    "import copy\n",
    "\n",
    "# Replay Buffer libraries\n",
    "import random\n",
    "from collections import namedtuple, deque\n",
    "\n",
    "# Plotting/Graphing libraries\n",
    "import matplotlib.pyplot as plt\n",
    "\n",
    "#Initalization general vars and types\n",
    "Experience = namedtuple(\"experience\",field_names=[\"state\",\"action\",\"reward\",\"next_state\",\"done\"])\n",
    "device = torch.device(\"cuda:0\" if torch.cuda.is_available() else \"cpu\")"
   ]
  },
  {
   "cell_type": "markdown",
   "metadata": {},
   "source": [
    "## Models/Networks Definition"
   ]
  },
  {
   "cell_type": "code",
   "execution_count": 6,
   "metadata": {},
   "outputs": [],
   "source": [
    "def hidden_init(layer):\n",
    "    \"\"\"Using Kaiming Layer initialization\"\"\"\n",
    "    fan_in = layer.weight.data.size()[0]\n",
    "    lim = 1. / np.sqrt(fan_in)\n",
    "    return (-lim, lim)\n",
    "\n",
    "class Actor(nn.Module):\n",
    "    def __init__(self, state_size, action_size, seed):\n",
    "        super(Actor, self).__init__()\n",
    "        self.seed = torch.manual_seed(seed)\n",
    "        fc_units = [256, 128]\n",
    "        self.fc1 = nn.Linear(state_size, fc_units[0])\n",
    "        self.fc2 = nn.Linear(fc_units[0], fc_units[1])\n",
    "        self.out = nn.Linear(fc_units[1], action_size)\n",
    "        self.bn1 = nn.BatchNorm1d(fc_units[0])\n",
    "        self.reset_parameters()\n",
    "        \n",
    "    def forward(self, state):\n",
    "        x = F.leaky_relu(self.fc1(state))\n",
    "        x = self.bn1(x)\n",
    "        x = F.leaky_relu(self.fc2(x))\n",
    "        return F.tanh(self.out(x))\n",
    "\n",
    "    def reset_parameters(self):\n",
    "        self.fc1.weight.data.uniform_(*hidden_init(self.fc1))\n",
    "        self.fc2.weight.data.uniform_(*hidden_init(self.fc2))\n",
    "        self.out.weight.data.uniform_(-3e-3, 3e-3)\n",
    "\n",
    "class Critic(nn.Module):\n",
    "    \"\"\"Critic (Value) Model.\"\"\"\n",
    "\n",
    "    def __init__(self, num_agents, state_size, action_size, seed):\n",
    "        super(Critic, self).__init__()\n",
    "        fc_units = [256, 128, 64]\n",
    "        self.seed = torch.manual_seed(seed)\n",
    "        self.fc1 = nn.Linear(num_agents * (state_size+action_size), fc_units[0])\n",
    "        self.fc2 = nn.Linear(fc_units[0], fc_units[1])\n",
    "        self.fc3 = nn.Linear(fc_units[1], fc_units[2])\n",
    "        self.fc4 = nn.Linear(fc_units[2], 1)\n",
    "        self.bn1 = nn.BatchNorm1d(fc_units[0])\n",
    "        self.reset_parameters()\n",
    "        \n",
    "    def forward(self, state, action):\n",
    "        \"\"\"Build a critic (value) network that maps (state, action) pairs -> Q-values.\"\"\"\n",
    "        xsa = torch.cat((state, action), dim=1)\n",
    "        xsa = F.leaky_relu(self.fc1(xsa))\n",
    "        xsa = self.bn1(xsa)\n",
    "        x = F.leaky_relu(self.fc2(xsa))\n",
    "        x = F.leaky_relu(self.fc3(x))\n",
    "        return self.fc4(x)\n",
    "\n",
    "    def reset_parameters(self):\n",
    "        self.fc1.weight.data.uniform_(*hidden_init(self.fc1))\n",
    "        self.fc2.weight.data.uniform_(*hidden_init(self.fc2))\n",
    "        self.fc3.weight.data.uniform_(*hidden_init(self.fc3))\n",
    "        self.fc4.weight.data.uniform_(*hidden_init(self.fc4))\n",
    "        self.fc4.weight.data.uniform_(-3e-3, 3e-3)"
   ]
  },
  {
   "cell_type": "markdown",
   "metadata": {},
   "source": [
    "## Replay Buffer"
   ]
  },
  {
   "cell_type": "code",
   "execution_count": 7,
   "metadata": {},
   "outputs": [],
   "source": [
    "class ReplayBuffer():\n",
    "    def __init__(self, buffer_size, batch_size, seed = 0):\n",
    "        self.seed_ = random.seed(seed)\n",
    "        self.batch_size_ = batch_size\n",
    "        self.memory_ = deque(maxlen=buffer_size)\n",
    "        \n",
    "    def sample(self):\n",
    "        experiences = random.sample(self.memory_, k=self.batch_size_)\n",
    "        # NOTE: Very important to ensure casting to the right types (otherwise very deadly bug)\n",
    "        states = torch.from_numpy(np.vstack([e.state for e in experiences if e is not None])).float().to(device)\n",
    "        actions = torch.from_numpy(np.vstack([e.action for e in experiences if e is not None])).float().to(device)\n",
    "        rewards = torch.from_numpy(np.vstack([e.reward for e in experiences if e is not None])).float().to(device)\n",
    "        next_states = torch.from_numpy(np.vstack([e.next_state for e in experiences if e is not None])).float().to(device)\n",
    "        dones = torch.from_numpy(np.vstack([e.done for e in experiences if e is not None]).astype(np.uint8)).float().to(device)\n",
    "        \n",
    "        return (states, actions, rewards, next_states, dones)\n",
    "    \n",
    "    def add(self, state, action, reward, next_state, done):\n",
    "        self.memory_.append(Experience(state, action, reward, next_state, done))\n",
    "\n",
    "    def __len__(self):\n",
    "        \"\"\"Return the current size of internal memory.\"\"\"\n",
    "        return len(self.memory_)"
   ]
  },
  {
   "cell_type": "markdown",
   "metadata": {},
   "source": [
    "## OUNoise"
   ]
  },
  {
   "cell_type": "code",
   "execution_count": 8,
   "metadata": {},
   "outputs": [],
   "source": [
    "class OUNoise:\n",
    "    \"\"\"Ornstein-Uhlenbeck process.\"\"\"\n",
    "\n",
    "    def __init__(self, size, seed, mu=0., theta=0.15, sigma=0.2):\n",
    "        \"\"\"Initialize parameters and noise process.\"\"\"\n",
    "        self.mu = mu * np.ones(size)\n",
    "        self.size = size\n",
    "        self.theta = theta\n",
    "        self.sigma = sigma\n",
    "        self.seed = random.seed(seed)\n",
    "        self.reset()\n",
    "\n",
    "    def reset(self):\n",
    "        \"\"\"Reset the internal state (= noise) to mean (mu).\"\"\"\n",
    "        self.state = copy.copy(self.mu)\n",
    "\n",
    "    def sample(self):\n",
    "        \"\"\"Update internal state and return it as a noise sample.\"\"\"\n",
    "        x = self.state\n",
    "        dx = self.theta * (self.mu - x) + self.sigma * np.random.standard_normal(self.size)\n",
    "        self.state = x + dx\n",
    "        return self.state"
   ]
  },
  {
   "cell_type": "markdown",
   "metadata": {},
   "source": [
    "## MADDPG Agent\n",
    "**Future Work**\n",
    "1. PER\n",
    "2. TD-2/TD-3/GAE"
   ]
  },
  {
   "cell_type": "code",
   "execution_count": 10,
   "metadata": {},
   "outputs": [],
   "source": [
    "BUFFER_SIZE = int(1e6)  # replay buffer size\n",
    "BATCH_SIZE = 256         # minibatch size\n",
    "GAMMA = 0.99            # discount factor\n",
    "TAU = 1e-3              # for soft update of target parameters\n",
    "LR_ACTOR = 1e-3         # learning rate of the actor\n",
    "LR_CRITIC = 1e-4        # learning rate of the critic\n",
    "WEIGHT_DECAY = 0.0      # L2 weight decay\n",
    "\n",
    "N_LEARN_UPDATES = 10     # number of learning updates\n",
    "N_TIME_STEPS = 20       # every n time step do update\n",
    "\n",
    "EPSILON_MIN = 0.01\n",
    "EPSILON_MAX_STEPS = 1e6\n",
    "\n",
    "class AgentNetwork():\n",
    "    \"\"\" Class to store networks for each agents\"\"\"\n",
    "    def __init__(self, idx, n_agents, state_size, action_size, random_seed):\n",
    "        self.idx = idx\n",
    "        self.state_size = state_size\n",
    "        self.action_size = action_size\n",
    "        self.seed = random.seed(random_seed)\n",
    "\n",
    "        # Noise process\n",
    "        self.noise = OUNoise(action_size, random_seed)\n",
    "\n",
    "        # Actor Network (w/ Target Network)\n",
    "        self.actor_local = Actor(state_size, action_size, random_seed).to(device)\n",
    "        self.actor_target = Actor(state_size, action_size, random_seed).to(device)\n",
    "        self.actor_optimizer = optim.Adam(self.actor_local.parameters(), lr=LR_ACTOR)\n",
    "        self.epsilon = 1\n",
    "        self.epsilon_decay = (self.epsilon-EPSILON_MIN)/(EPSILON_MAX_STEPS)\n",
    "\n",
    "        # Critic Network (w/ Target Network)\n",
    "        self.critic_local = Critic(n_agents, state_size, action_size, random_seed).to(device)\n",
    "        self.critic_target = Critic(n_agents, state_size, action_size, random_seed).to(device)\n",
    "        self.critic_optimizer = optim.Adam(self.critic_local.parameters(), lr=LR_CRITIC, weight_decay=WEIGHT_DECAY)\n",
    "\n",
    "class MultiAgent():\n",
    "    \"\"\"Interacts with and learns from the environment.\"\"\"\n",
    "    \n",
    "    def __init__(self, n_agents, state_size, action_size, random_seed=0):\n",
    "        \"\"\"Initialize an Agent object.\n",
    "        Params\n",
    "        ======\n",
    "            num_agents  (int): number of agent\n",
    "            state_size (int): dimension of each state\n",
    "            action_size (int): dimension of each action\n",
    "            random_seed (int): random seed\n",
    "        \"\"\"\n",
    "        self.n_agents= n_agents\n",
    "        self.state_size = state_size\n",
    "        self.action_size = action_size\n",
    "        self.seed = random.seed(random_seed)\n",
    "        self.agent_nets = [AgentNetwork(idx, n_agents, state_size, action_size, random_seed=0) for idx in range(num_agents)]        \n",
    "        # Replay memory\n",
    "        self.memory = ReplayBuffer(BUFFER_SIZE, BATCH_SIZE, random_seed)\n",
    "\n",
    "    def step(self, agent_id, t_step, memory):\n",
    "        \"\"\"Save experience in replay memory, and use random sample from buffer to learn.\"\"\"\n",
    "        # only learn every n_time_steps\n",
    "        if t_step % N_TIME_STEPS != 0:\n",
    "            return\n",
    "\n",
    "        # Learn, if enough samples are available in memory\n",
    "        if len(memory) > BATCH_SIZE:\n",
    "            for agent_id in range(self.n_agents):\n",
    "                for i in range(N_LEARN_UPDATES):\n",
    "                    self.agent_nets[agent_id].epsilon -= self.agent_nets[agent_id].epsilon_decay\n",
    "                    experiences = memory.sample()\n",
    "                    self.learn(agent_id, experiences, GAMMA)\n",
    "\n",
    "    def act(self, idx, state, add_noise=True):\n",
    "        \"\"\"Returns actions for given state as per current policy.\"\"\"\n",
    "        state = torch.from_numpy(state).float().to(device)\n",
    "        self.agent_nets[idx].actor_local.eval()\n",
    "        if(self.agent_nets[idx].epsilon < EPSILON_MIN):\n",
    "            self.agent_nets[idx].epsilon = EPSILON_MIN\n",
    "        with torch.no_grad():\n",
    "            action = self.agent_nets[idx].actor_local(state).cpu().data.numpy()\n",
    "        self.agent_nets[idx].actor_local.train()\n",
    "        if add_noise:\n",
    "            action += self.agent_nets[idx].epsilon * self.agent_nets[idx].noise.sample()\n",
    "        return np.clip(action,-1,1)\n",
    "\n",
    "    def reset(self):\n",
    "        for agent_net in self.agent_nets:\n",
    "                agent_net.noise.reset()\n",
    "\n",
    "    def learn(self, idx, experiences, gamma):\n",
    "        \"\"\"Update policy and value parameters using given batch of experience tuples.\n",
    "        Q_targets = r + γ * critic_target(next_state, actor_target(next_state))\n",
    "        Actor_loss = -critic_local(states, actions_pred).mean()\n",
    "        Because we want to updated actor S.T it maximize the state value which is the critic_local\n",
    "        where:\n",
    "            actor_target(state) -> action\n",
    "            critic_target(state, action) -> Q-value\n",
    "        Params\n",
    "        ======\n",
    "            experiences (Tuple[torch.Tensor]): tuple of (s, a, r, s', done) tuples \n",
    "            gamma (float): discount factor\n",
    "        \"\"\"\n",
    "        states_flat, actions_flat, rewards_flat, next_states_flat, dones_flat = experiences\n",
    "#         Check shapes being loaded\n",
    "#         print(\"learn states_flat\",states_flat.shape)\n",
    "#         print(\"learn actions_flat\",actions_flat.shape)\n",
    "#         print(\"learn rewards_flat\",rewards_flat.shape)\n",
    "#         print(\"learn next_states_flat\",next_states_flat.shape)\n",
    "#         print(\"learn dones_flat\",dones_flat.shape)\n",
    "        \n",
    "        #------------------------- Generate View with original shape -------------------------#         \n",
    "        states = states_flat.reshape(-1, self.n_agents, self.state_size)\n",
    "        actions = actions_flat.reshape(-1, self.n_agents, self.action_size)\n",
    "        rewards_cur_agent = rewards_flat[:,idx].reshape(-1,1) #Picked out rewards for current agent\n",
    "        next_states = next_states_flat.reshape(-1, self.n_agents, self.state_size)\n",
    "        dones_cur_agent = dones_flat[:,idx].reshape(-1,1) # Picked out dones for current agent\n",
    "    \n",
    "        # ---------------------------- update critic ---------------------------- #\n",
    "        # Get predicted next-state actions and Q values from target models\n",
    "        Q_prediction = self.agent_nets[idx].critic_local(states_flat, actions_flat)\n",
    "        # Stack all agent's actor output.\n",
    "        next_actions = ()\n",
    "        actions_pred = ()\n",
    "        for cur_id in range(self.n_agents):\n",
    "            if(cur_id == idx):\n",
    "                next_actions += (self.agent_nets[cur_id].actor_target(next_states[:,cur_id,:]),)\n",
    "                actions_pred += (self.agent_nets[cur_id].actor_local(states[:,cur_id,:]),)\n",
    "            else:\n",
    "                with torch.no_grad():\n",
    "                    next_actions += (self.agent_nets[cur_id].actor_target(next_states[:,cur_id,:]),)\n",
    "                    actions_pred += (self.agent_nets[cur_id].actor_local(states[:,cur_id,:]),)\n",
    "\n",
    "        next_actions_flat = torch.cat(next_actions, dim=1)\n",
    "        Q_label_next = self.agent_nets[idx].critic_target(next_states_flat, next_actions_flat)\n",
    "        Q_label = rewards_cur_agent + (gamma * Q_label_next * (1-dones_cur_agent))\n",
    "        \n",
    "        # Update Critic Network\n",
    "        critic_loss = F.mse_loss(Q_prediction, Q_label.detach())\n",
    "        self.agent_nets[idx].critic_optimizer.zero_grad()\n",
    "        critic_loss.backward()\n",
    "        torch.nn.utils.clip_grad_norm_(self.agent_nets[idx].critic_local.parameters(), 1)\n",
    "        self.agent_nets[idx].critic_optimizer.step()\n",
    "\n",
    "        # ---------------------------- update actor ---------------------------- #\n",
    "        # Compute actor loss\n",
    "        actions_pred_flat = torch.cat(actions_pred, dim=1)\n",
    "        actor_loss = -self.agent_nets[idx].critic_local(states_flat, actions_pred_flat).mean()\n",
    "        self.agent_nets[idx].actor_optimizer.zero_grad()\n",
    "        actor_loss.backward()\n",
    "        self.agent_nets[idx].actor_optimizer.step()\n",
    "\n",
    "        # ----------------------- update target networks ----------------------- #\n",
    "        self.soft_update(self.agent_nets[idx].critic_local, self.agent_nets[idx].critic_target, TAU)\n",
    "        self.soft_update(self.agent_nets[idx].actor_local, self.agent_nets[idx].actor_target, TAU)                     \n",
    "\n",
    "    def soft_update(self, local_model, target_model, tau):\n",
    "        \"\"\"Soft update model parameters.\n",
    "        θ_target = τ*θ_local + (1 - τ)*θ_target\n",
    "        Params\n",
    "        ======\n",
    "            local_model: PyTorch model (weights will be copied from)\n",
    "            target_model: PyTorch model (weights will be copied to)\n",
    "            tau (float): interpolation parameter \n",
    "        \"\"\"\n",
    "        for target_param, local_param in zip(target_model.parameters(), local_model.parameters()):\n",
    "            target_param.data.copy_(tau*local_param.data + (1.0-tau)*target_param.data)"
   ]
  },
  {
   "cell_type": "markdown",
   "metadata": {},
   "source": [
    "## MADDPG Training Loop"
   ]
  },
  {
   "cell_type": "code",
   "execution_count": 11,
   "metadata": {},
   "outputs": [
    {
     "name": "stdout",
     "output_type": "stream",
     "text": [
      "Episode 100\tAverage Score: 0.00450\tScore: 0.045000\n",
      "Episode 200\tAverage Score: -0.00300\tScore: -0.00500\n",
      "Episode 300\tAverage Score: -0.00200\tScore: -0.00500\n",
      "Episode 400\tAverage Score: -0.00450\tScore: -0.00500\n",
      "Episode 500\tAverage Score: -0.00100\tScore: -0.00500\n",
      "Episode 600\tAverage Score: 0.01900\tScore: 0.0450000\n",
      "Episode 700\tAverage Score: 0.02700\tScore: -0.00500\n",
      "Episode 800\tAverage Score: 0.02395\tScore: 0.045000\n",
      "Episode 900\tAverage Score: 0.04350\tScore: -0.00500\n",
      "Episode 1000\tAverage Score: 0.06300\tScore: 0.09500\n",
      "Episode 1100\tAverage Score: 0.07050\tScore: 0.045000\n",
      "Episode 1200\tAverage Score: 0.06800\tScore: 0.095000\n",
      "Episode 1300\tAverage Score: 0.10990\tScore: 0.045000\n",
      "Episode 1400\tAverage Score: 0.19800\tScore: 0.145000\n",
      "Episode 1500\tAverage Score: 0.17350\tScore: -0.00500\n",
      "Episode 1600\tAverage Score: 0.23200\tScore: 1.045000\n",
      "Episode 1700\tAverage Score: 0.28545\tScore: 0.095000\n",
      "Episode 1800\tAverage Score: 0.26300\tScore: 0.095000\n",
      "Episode 1900\tAverage Score: 0.31400\tScore: 0.245000\n",
      "Episode 2000\tAverage Score: 0.30050\tScore: -0.00500\n",
      "Episode 2100\tAverage Score: 0.49105\tScore: 0.695000\n",
      " Solved within Episode 2119\tAverage Score: 0.514000\n"
     ]
    },
    {
     "data": {
      "image/png": "[encoded data removed]",
      "text/plain": [
       "<matplotlib.figure.Figure at 0x7f918a932208>"
      ]
     },
     "metadata": {
      "needs_background": "light"
     },
     "output_type": "display_data"
    }
   ],
   "source": [
    "def maddpg(n_episodes=10000, max_t=1000):\n",
    "    scores_deque = deque(maxlen=100)\n",
    "    scores = []\n",
    "    moving_average = []\n",
    "    agents = MultiAgent(num_agents, state_size, action_size)\n",
    "    multi_memory = ReplayBuffer(BUFFER_SIZE, BATCH_SIZE, seed=0)\n",
    "    for i_episode in range(1, n_episodes+1):\n",
    "        env_info = env.reset(train_mode=True)[brain_name]\n",
    "        states = env_info.vector_observations\n",
    "        score = np.zeros(num_agents)\n",
    "        agents.reset()\n",
    "        actions = np.random.randn(num_agents, action_size)\n",
    "        for t in range(max_t):\n",
    "            actions = np.vstack([agents.act(agent_id, states[agent_id,:].reshape(1,-1)) for agent_id in range(num_agents)])\n",
    "            env_info = env.step(actions)[brain_name]        # send the action to the environment\n",
    "            next_states = env_info.vector_observations   # get the next state\n",
    "            rewards = np.array(env_info.rewards)                   # get the reward\n",
    "            dones = np.array(env_info.local_done)                  # see if episode has finished\n",
    "            # Check shapes being stored      \n",
    "#             print(\"states loop shape:\", states.flatten().shape)\n",
    "#             print(\"action states shape:\", actions.flatten().shape)\n",
    "#             print(\"rewards shape:\", rewards.shape)\n",
    "#             print(\"next states shape:\", next_states.flatten().shape)\n",
    "#             print(\"dones shape:\", dones.shape)\n",
    "            multi_memory.add(states.flatten(), actions.flatten(), rewards, next_states.flatten(), dones)\n",
    "            for agent_id in range(num_agents):\n",
    "                agents.step(agent_id, t, multi_memory)\n",
    "            states = next_states\n",
    "            score += rewards\n",
    "            if any(dones):\n",
    "                break \n",
    "        avg_score = np.mean(score)\n",
    "        scores_deque.append(avg_score)\n",
    "        scores.append(avg_score)\n",
    "        avg_deque_score = np.mean(scores_deque)\n",
    "        moving_average.append(avg_deque_score)\n",
    "        print('\\rEpisode {}\\tAverage Score: {:.5f}\\tScore: {:.5f}'.format(i_episode, np.mean(scores_deque), scores[-1]), end=\"\")\n",
    "        if i_episode % 100 == 0:\n",
    "            for i, agent in enumerate(agents.agent_nets):\n",
    "                torch.save(agent.actor_local.state_dict(), \"checkpoint_actor_\"+str(i)+\".pth\")\n",
    "                torch.save(agent.critic_local.state_dict(), \"checkpoint_critic_\"+str(i)+\".pth\")\n",
    "            print('\\rEpisode {}\\tAverage Score: {:.2f}'.format(i_episode, np.mean(scores_deque)))\n",
    "        if avg_deque_score > 0.51:\n",
    "            for i, agent in enumerate(agents.agent_nets):\n",
    "                torch.save(agent.actor_local.state_dict(), \"checkpoint_actor_\"+str(i)+\".pth\")\n",
    "                torch.save(agent.critic_local.state_dict(), \"checkpoint_critic_\"+str(i)+\".pth\")\n",
    "            print('\\r Solved within Episode {}\\tAverage Score: {:.3f}'.format(i_episode, np.mean(scores_deque)))\n",
    "            break\n",
    "\n",
    "    return scores, moving_average\n",
    "\n",
    "scores, moving_average = maddpg()\n",
    "\n",
    "fig = plt.figure()\n",
    "ax = fig.add_subplot(111)\n",
    "plt.plot(np.arange(1, len(scores)+1), scores)\n",
    "plt.ylabel('Score')\n",
    "plt.xlabel('Episode #')\n",
    "plt.show()"
   ]
  },
  {
   "cell_type": "code",
   "execution_count": 22,
   "metadata": {},
   "outputs": [
    {
     "data": {
      "image/png": "[encoded data removed]",
      "text/plain": [
       "<matplotlib.figure.Figure at 0x7f918987b080>"
      ]
     },
     "metadata": {
      "needs_background": "light"
     },
     "output_type": "display_data"
    }
   ],
   "source": [
    "fig = plt.figure()\n",
    "ax = fig.add_subplot(111)\n",
    "plt.plot(np.arange(1, len(scores)+1), moving_average)\n",
    "plt.ylabel('Moving Average Score')\n",
    "plt.xlabel('Episode #')\n",
    "plt.axhline(y=0.5, color='r', linestyle='--')\n",
    "plt.text(0.5,0.47,'target average score', color='r')\n",
    "plt.show()"
   ]
  },
  {
   "cell_type": "code",
   "execution_count": null,
   "metadata": {},
   "outputs": [],
   "source": []
  }
 ],
 "metadata": {
  "kernelspec": {
   "display_name": "Python 3",
   "language": "python",
   "name": "python3"
  },
  "language_info": {
   "codemirror_mode": {
    "name": "ipython",
    "version": 3
   },
   "file_extension": ".py",
   "mimetype": "text/x-python",
   "name": "python",
   "nbconvert_exporter": "python",
   "pygments_lexer": "ipython3",
   "version": "3.6.3"
  }
 },
 "nbformat": 4,
 "nbformat_minor": 2
}
